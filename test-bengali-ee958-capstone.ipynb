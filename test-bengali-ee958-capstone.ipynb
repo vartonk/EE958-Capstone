{
 "cells": [
  {
   "cell_type": "code",
   "execution_count": 1,
   "id": "1294a20b",
   "metadata": {
    "execution": {
     "iopub.execute_input": "2025-03-15T17:51:36.748311Z",
     "iopub.status.busy": "2025-03-15T17:51:36.747967Z",
     "iopub.status.idle": "2025-03-15T17:51:48.537012Z",
     "shell.execute_reply": "2025-03-15T17:51:48.535899Z"
    },
    "id": "BbaaB3gRQYC-",
    "papermill": {
     "duration": 11.799161,
     "end_time": "2025-03-15T17:51:48.539001",
     "exception": false,
     "start_time": "2025-03-15T17:51:36.739840",
     "status": "completed"
    },
    "tags": []
   },
   "outputs": [],
   "source": [
    "import torch\n",
    "import torch.nn as nn\n",
    "import torch.nn.functional as F\n",
    "from torch.utils.data import DataLoader, TensorDataset\n",
    "import json\n",
    "import numpy as np\n",
    "import re\n",
    "import string\n",
    "import nltk\n",
    "import pandas as pd\n",
    "import matplotlib.pyplot as plt\n",
    "from tqdm import tqdm\n"
   ]
  },
  {
   "cell_type": "code",
   "execution_count": 2,
   "id": "626f1f03",
   "metadata": {
    "execution": {
     "iopub.execute_input": "2025-03-15T17:51:48.553362Z",
     "iopub.status.busy": "2025-03-15T17:51:48.552853Z",
     "iopub.status.idle": "2025-03-15T17:51:48.947587Z",
     "shell.execute_reply": "2025-03-15T17:51:48.946516Z"
    },
    "id": "5G8d1LwtzVJ4",
    "outputId": "ae14cc98-7d70-4544-b64a-6e5ca943e3dd",
    "papermill": {
     "duration": 0.403808,
     "end_time": "2025-03-15T17:51:48.949335",
     "exception": false,
     "start_time": "2025-03-15T17:51:48.545527",
     "status": "completed"
    },
    "tags": []
   },
   "outputs": [
    {
     "name": "stdout",
     "output_type": "stream",
     "text": [
      "[nltk_data] Downloading package punkt_tab to /usr/share/nltk_data...\n",
      "[nltk_data]   Unzipping tokenizers/punkt_tab.zip.\n"
     ]
    },
    {
     "data": {
      "text/plain": [
       "True"
      ]
     },
     "execution_count": 2,
     "metadata": {},
     "output_type": "execute_result"
    }
   ],
   "source": [
    "\n",
    "# The 'punkt' resource is a pre-trained model used for tokenization, which is the process of splitting text into individual words or sentences.\n",
    "# The 'tab' part likely refers to a variant or extension of the punkt tokenizer that may handle tab-separated data or related formatting nuances.\n",
    "# Downloading this resource ensures that the tokenizer is available for use in subsequent NLP tasks.\n",
    "nltk.download('punkt_tab')"
   ]
  },
  {
   "cell_type": "code",
   "execution_count": 3,
   "id": "bc153c88",
   "metadata": {
    "execution": {
     "iopub.execute_input": "2025-03-15T17:51:48.963673Z",
     "iopub.status.busy": "2025-03-15T17:51:48.963301Z",
     "iopub.status.idle": "2025-03-15T17:51:48.967433Z",
     "shell.execute_reply": "2025-03-15T17:51:48.966476Z"
    },
    "id": "wMIkjevT60zr",
    "papermill": {
     "duration": 0.012954,
     "end_time": "2025-03-15T17:51:48.969167",
     "exception": false,
     "start_time": "2025-03-15T17:51:48.956213",
     "status": "completed"
    },
    "tags": []
   },
   "outputs": [],
   "source": [
    "# initialize the variables to process JSON data\n",
    "source_sentences_val = []\n",
    "\n",
    "id_val = []"
   ]
  },
  {
   "cell_type": "code",
   "execution_count": 4,
   "id": "c49d182e",
   "metadata": {
    "execution": {
     "iopub.execute_input": "2025-03-15T17:51:48.984931Z",
     "iopub.status.busy": "2025-03-15T17:51:48.984545Z",
     "iopub.status.idle": "2025-03-15T17:51:49.164691Z",
     "shell.execute_reply": "2025-03-15T17:51:49.163883Z"
    },
    "id": "3D-V5lgY60-u",
    "papermill": {
     "duration": 0.189379,
     "end_time": "2025-03-15T17:51:49.166530",
     "exception": false,
     "start_time": "2025-03-15T17:51:48.977151",
     "status": "completed"
    },
    "tags": []
   },
   "outputs": [],
   "source": [
    "with open('/kaggle/input/ee958-cap-test/test_data1_final.json', 'r') as file: # Replace this path with the dataset path in your local machine\n",
    "    data = json.load(file)"
   ]
  },
  {
   "cell_type": "code",
   "execution_count": 5,
   "id": "348af430",
   "metadata": {
    "execution": {
     "iopub.execute_input": "2025-03-15T17:51:49.180919Z",
     "iopub.status.busy": "2025-03-15T17:51:49.180492Z",
     "iopub.status.idle": "2025-03-15T17:51:49.192182Z",
     "shell.execute_reply": "2025-03-15T17:51:49.190942Z"
    },
    "id": "eW1JJK4x61HG",
    "outputId": "d020623c-f554-4ac1-dcef-3663c2cf0429",
    "papermill": {
     "duration": 0.020447,
     "end_time": "2025-03-15T17:51:49.193664",
     "exception": false,
     "start_time": "2025-03-15T17:51:49.173217",
     "status": "completed"
    },
    "tags": []
   },
   "outputs": [
    {
     "name": "stdout",
     "output_type": "stream",
     "text": [
      "Language Pair: English-Bengali\n",
      "  Data Type: Test\n"
     ]
    }
   ],
   "source": [
    "# Load souce and target for Validation\n",
    "for language_pair, language_data in data.items():\n",
    "    if(language_pair == \"English-Bengali\"):\n",
    "      print(f\"Language Pair: {language_pair}\")\n",
    "      for data_type, data_entries in language_data.items():\n",
    "          print(f\"  Data Type: {data_type}\")\n",
    "          for entry_id, entry_data in data_entries.items():\n",
    "              source = entry_data[\"source\"]\n",
    "              if (data_type == \"Test\"):\n",
    "                source_sentences_val.append(source)"
   ]
  },
  {
   "cell_type": "code",
   "execution_count": 6,
   "id": "607139b9",
   "metadata": {
    "execution": {
     "iopub.execute_input": "2025-03-15T17:51:49.207603Z",
     "iopub.status.busy": "2025-03-15T17:51:49.207233Z",
     "iopub.status.idle": "2025-03-15T17:51:49.212420Z",
     "shell.execute_reply": "2025-03-15T17:51:49.211521Z"
    },
    "id": "2TXJ4t-K4niH",
    "outputId": "a8bfcfa7-c11b-42d5-c922-7b5be8ea766f",
    "papermill": {
     "duration": 0.013903,
     "end_time": "2025-03-15T17:51:49.214049",
     "exception": false,
     "start_time": "2025-03-15T17:51:49.200146",
     "status": "completed"
    },
    "tags": []
   },
   "outputs": [
    {
     "name": "stdout",
     "output_type": "stream",
     "text": [
      "19672\n"
     ]
    }
   ],
   "source": [
    "\n",
    "print(len(source_sentences_val))"
   ]
  },
  {
   "cell_type": "code",
   "execution_count": 7,
   "id": "064151b2",
   "metadata": {
    "execution": {
     "iopub.execute_input": "2025-03-15T17:51:49.228759Z",
     "iopub.status.busy": "2025-03-15T17:51:49.228416Z",
     "iopub.status.idle": "2025-03-15T17:51:49.232091Z",
     "shell.execute_reply": "2025-03-15T17:51:49.231201Z"
    },
    "id": "3XRxnK3y4p6V",
    "papermill": {
     "duration": 0.012311,
     "end_time": "2025-03-15T17:51:49.233467",
     "exception": false,
     "start_time": "2025-03-15T17:51:49.221156",
     "status": "completed"
    },
    "tags": []
   },
   "outputs": [],
   "source": [
    "import nltk\n",
    "from collections import Counter"
   ]
  },
  {
   "cell_type": "code",
   "execution_count": 8,
   "id": "f02ed1c4",
   "metadata": {
    "execution": {
     "iopub.execute_input": "2025-03-15T17:51:49.247756Z",
     "iopub.status.busy": "2025-03-15T17:51:49.247401Z",
     "iopub.status.idle": "2025-03-15T17:51:49.251849Z",
     "shell.execute_reply": "2025-03-15T17:51:49.250946Z"
    },
    "id": "K9OBOZcH4p9Q",
    "papermill": {
     "duration": 0.013203,
     "end_time": "2025-03-15T17:51:49.253516",
     "exception": false,
     "start_time": "2025-03-15T17:51:49.240313",
     "status": "completed"
    },
    "tags": []
   },
   "outputs": [],
   "source": [
    "# Function to preprocess and remove punctuation and numbers\n",
    "def preprocess_and_remove_punctuation(sentence):\n",
    "    # Remove punctuation and numbers\n",
    "    sentence = ''.join([char for char in sentence if char not in string.punctuation and not char.isdigit()])\n",
    "    return sentence"
   ]
  },
  {
   "cell_type": "code",
   "execution_count": 9,
   "id": "31a6bc87",
   "metadata": {
    "execution": {
     "iopub.execute_input": "2025-03-15T17:51:49.268315Z",
     "iopub.status.busy": "2025-03-15T17:51:49.267978Z",
     "iopub.status.idle": "2025-03-15T17:51:49.272140Z",
     "shell.execute_reply": "2025-03-15T17:51:49.271273Z"
    },
    "id": "TIZLuTIH4qCD",
    "papermill": {
     "duration": 0.013418,
     "end_time": "2025-03-15T17:51:49.273668",
     "exception": false,
     "start_time": "2025-03-15T17:51:49.260250",
     "status": "completed"
    },
    "tags": []
   },
   "outputs": [],
   "source": [
    "# Tokenization and Lowercasing\n",
    "def preprocess(sentences):\n",
    "    tokenized_sentences = [nltk.word_tokenize(preprocess_and_remove_punctuation(sentence.lower())) for sentence in sentences]\n",
    "    return tokenized_sentences"
   ]
  },
  {
   "cell_type": "code",
   "execution_count": 10,
   "id": "8c0b0846",
   "metadata": {
    "execution": {
     "iopub.execute_input": "2025-03-15T17:51:49.288219Z",
     "iopub.status.busy": "2025-03-15T17:51:49.287852Z",
     "iopub.status.idle": "2025-03-15T17:51:52.090588Z",
     "shell.execute_reply": "2025-03-15T17:51:52.089660Z"
    },
    "id": "Vlge8LLR4qKn",
    "papermill": {
     "duration": 2.812104,
     "end_time": "2025-03-15T17:51:52.092510",
     "exception": false,
     "start_time": "2025-03-15T17:51:49.280406",
     "status": "completed"
    },
    "tags": []
   },
   "outputs": [],
   "source": [
    "\n",
    "english_test=preprocess(source_sentences_val)"
   ]
  },
  {
   "cell_type": "code",
   "execution_count": 11,
   "id": "a582860a",
   "metadata": {
    "execution": {
     "iopub.execute_input": "2025-03-15T17:51:52.107299Z",
     "iopub.status.busy": "2025-03-15T17:51:52.106940Z",
     "iopub.status.idle": "2025-03-15T17:51:52.110829Z",
     "shell.execute_reply": "2025-03-15T17:51:52.109890Z"
    },
    "id": "deSMTBa-5maR",
    "papermill": {
     "duration": 0.012497,
     "end_time": "2025-03-15T17:51:52.112340",
     "exception": false,
     "start_time": "2025-03-15T17:51:52.099843",
     "status": "completed"
    },
    "tags": []
   },
   "outputs": [],
   "source": [
    "\n",
    "en_test=english_test"
   ]
  },
  {
   "cell_type": "code",
   "execution_count": 12,
   "id": "4e3cba63",
   "metadata": {
    "execution": {
     "iopub.execute_input": "2025-03-15T17:51:52.127170Z",
     "iopub.status.busy": "2025-03-15T17:51:52.126797Z",
     "iopub.status.idle": "2025-03-15T17:51:52.301945Z",
     "shell.execute_reply": "2025-03-15T17:51:52.300911Z"
    },
    "papermill": {
     "duration": 0.184563,
     "end_time": "2025-03-15T17:51:52.303434",
     "exception": false,
     "start_time": "2025-03-15T17:51:52.118871",
     "status": "completed"
    },
    "tags": []
   },
   "outputs": [
    {
     "name": "stdout",
     "output_type": "stream",
     "text": [
      "Vocabularies loaded successfully\n"
     ]
    }
   ],
   "source": [
    "# Load vocabularies for English-Bengali\n",
    "with open('/kaggle/input/ee958-cap-test/bn_en_index2word.json', 'r') as f:\n",
    "    en_index2word = json.load(f)\n",
    "with open('/kaggle/input/ee958-cap-test/bn_de_index2word.json', 'r') as f:\n",
    "    de_index2word = json.load(f)\n",
    "\n",
    "# Convert to word-to-index mappings\n",
    "en_word2index = {token: idx for idx, token in enumerate(en_index2word)}\n",
    "de_word2index = {token: idx for idx, token in enumerate(de_index2word)}\n",
    "\n",
    "print(\"Vocabularies loaded successfully\")"
   ]
  },
  {
   "cell_type": "code",
   "execution_count": 13,
   "id": "171b8dd0",
   "metadata": {
    "execution": {
     "iopub.execute_input": "2025-03-15T17:51:52.317357Z",
     "iopub.status.busy": "2025-03-15T17:51:52.317016Z",
     "iopub.status.idle": "2025-03-15T17:51:52.411537Z",
     "shell.execute_reply": "2025-03-15T17:51:52.410599Z"
    },
    "id": "op5h3x5a7lKz",
    "outputId": "3455f8af-d6dc-46bc-b6a0-d5274ddf8e9d",
    "papermill": {
     "duration": 0.103178,
     "end_time": "2025-03-15T17:51:52.413105",
     "exception": false,
     "start_time": "2025-03-15T17:51:52.309927",
     "status": "completed"
    },
    "tags": []
   },
   "outputs": [
    {
     "data": {
      "text/plain": [
       "device(type='cuda')"
      ]
     },
     "execution_count": 13,
     "metadata": {},
     "output_type": "execute_result"
    }
   ],
   "source": [
    "# torch.cuda.is_available() checks if a CUDA-enabled GPU is available.\n",
    "device = torch.device('cuda' if torch.cuda.is_available() else 'cpu')\n",
    "device"
   ]
  },
  {
   "cell_type": "code",
   "execution_count": 14,
   "id": "87e12d6e",
   "metadata": {
    "execution": {
     "iopub.execute_input": "2025-03-15T17:51:52.427541Z",
     "iopub.status.busy": "2025-03-15T17:51:52.427213Z",
     "iopub.status.idle": "2025-03-15T17:51:52.430982Z",
     "shell.execute_reply": "2025-03-15T17:51:52.429994Z"
    },
    "id": "bUmeVoIn61Kx",
    "papermill": {
     "duration": 0.012799,
     "end_time": "2025-03-15T17:51:52.432535",
     "exception": false,
     "start_time": "2025-03-15T17:51:52.419736",
     "status": "completed"
    },
    "tags": []
   },
   "outputs": [],
   "source": [
    "seq_length = 20"
   ]
  },
  {
   "cell_type": "code",
   "execution_count": 15,
   "id": "ccc66133",
   "metadata": {
    "execution": {
     "iopub.execute_input": "2025-03-15T17:51:52.446708Z",
     "iopub.status.busy": "2025-03-15T17:51:52.446372Z",
     "iopub.status.idle": "2025-03-15T17:51:52.455177Z",
     "shell.execute_reply": "2025-03-15T17:51:52.454272Z"
    },
    "id": "hKpPwrsb61Of",
    "papermill": {
     "duration": 0.01743,
     "end_time": "2025-03-15T17:51:52.456601",
     "exception": false,
     "start_time": "2025-03-15T17:51:52.439171",
     "status": "completed"
    },
    "tags": []
   },
   "outputs": [],
   "source": [
    "def encode_and_pad(vocab, sent, max_length):\n",
    "    \"\"\"\n",
    "    Encodes a sentence using a vocabulary and pads or truncates it to a specified maximum length.\n",
    "\n",
    "    Args:\n",
    "        vocab (dict): A dictionary mapping words to their corresponding indices.\n",
    "        sent (list): A list of words representing the sentence to be encoded.\n",
    "        max_length (int): The maximum length of the encoded and padded/truncated sentence.\n",
    "\n",
    "    Returns:\n",
    "        list: The encoded and padded/truncated sentence as a list of indices.\n",
    "    \"\"\"\n",
    "\n",
    "    # Define special tokens: Start of Sentence (SOS), End of Sentence (EOS), and Padding (PAD).\n",
    "    sos = [vocab[\"<SOS>\"]]\n",
    "    eos = [vocab[\"<EOS>\"]]\n",
    "    pad = [vocab[\"<PAD>\"]]\n",
    "\n",
    "    encoded = [vocab.get(w, vocab[\"<PAD>\"]) for w in sent]\n",
    "\n",
    "    # Check if the sentence length (excluding SOS and EOS) is less than the maximum length.\n",
    "    if len(sent) < max_length - 2: # -2 for SOS and EOS\n",
    "        # Calculate the number of padding tokens needed.\n",
    "        n_pads = max_length - 2 - len(sent)\n",
    "        # Encode the sentence by looking up the index of each word in the vocabulary.\n",
    "        #encoded = [vocab[w] for w in sent]\n",
    "        return sos + encoded + eos + pad * n_pads\n",
    "    else: # sent is longer than max_length; truncating\n",
    "        #encoded = [vocab[w] for w in sent]\n",
    "        truncated = encoded[:max_length - 2]\n",
    "        return sos + truncated + eos"
   ]
  },
  {
   "cell_type": "code",
   "execution_count": 16,
   "id": "c6efd931",
   "metadata": {
    "execution": {
     "iopub.execute_input": "2025-03-15T17:51:52.470632Z",
     "iopub.status.busy": "2025-03-15T17:51:52.470317Z",
     "iopub.status.idle": "2025-03-15T17:51:52.589227Z",
     "shell.execute_reply": "2025-03-15T17:51:52.588400Z"
    },
    "id": "zOVE8NxB61SJ",
    "papermill": {
     "duration": 0.127577,
     "end_time": "2025-03-15T17:51:52.591071",
     "exception": false,
     "start_time": "2025-03-15T17:51:52.463494",
     "status": "completed"
    },
    "tags": []
   },
   "outputs": [],
   "source": [
    "# Encoded Training data\n",
    "en_test_encoded = [encode_and_pad(en_word2index, sent, seq_length) for sent in en_test]"
   ]
  },
  {
   "cell_type": "code",
   "execution_count": 17,
   "id": "9c351d96",
   "metadata": {
    "execution": {
     "iopub.execute_input": "2025-03-15T17:51:52.605431Z",
     "iopub.status.busy": "2025-03-15T17:51:52.605044Z",
     "iopub.status.idle": "2025-03-15T17:51:52.671932Z",
     "shell.execute_reply": "2025-03-15T17:51:52.670877Z"
    },
    "id": "zIC407YH9Eif",
    "papermill": {
     "duration": 0.075907,
     "end_time": "2025-03-15T17:51:52.673595",
     "exception": false,
     "start_time": "2025-03-15T17:51:52.597688",
     "status": "completed"
    },
    "tags": []
   },
   "outputs": [],
   "source": [
    "batch_size = 256\n",
    "\n",
    "test_x = np.array(en_test_encoded)\n",
    "\n",
    "test_ds = TensorDataset(torch.from_numpy(test_x))"
   ]
  },
  {
   "cell_type": "code",
   "execution_count": 18,
   "id": "80474ccb",
   "metadata": {
    "execution": {
     "iopub.execute_input": "2025-03-15T17:51:52.687872Z",
     "iopub.status.busy": "2025-03-15T17:51:52.687500Z",
     "iopub.status.idle": "2025-03-15T17:51:52.691376Z",
     "shell.execute_reply": "2025-03-15T17:51:52.690551Z"
    },
    "id": "IxcBu2_S8HsY",
    "papermill": {
     "duration": 0.012686,
     "end_time": "2025-03-15T17:51:52.692905",
     "exception": false,
     "start_time": "2025-03-15T17:51:52.680219",
     "status": "completed"
    },
    "tags": []
   },
   "outputs": [],
   "source": [
    "import math"
   ]
  },
  {
   "cell_type": "code",
   "execution_count": 19,
   "id": "bb7b9718",
   "metadata": {
    "execution": {
     "iopub.execute_input": "2025-03-15T17:51:52.707386Z",
     "iopub.status.busy": "2025-03-15T17:51:52.707050Z",
     "iopub.status.idle": "2025-03-15T17:51:52.713736Z",
     "shell.execute_reply": "2025-03-15T17:51:52.712909Z"
    },
    "id": "nrjcbW8T4JEY",
    "papermill": {
     "duration": 0.015815,
     "end_time": "2025-03-15T17:51:52.715344",
     "exception": false,
     "start_time": "2025-03-15T17:51:52.699529",
     "status": "completed"
    },
    "tags": []
   },
   "outputs": [],
   "source": [
    "# As suggested in online docs we need to use a positional encoder for Transformaers\n",
    "\n",
    "class PositionalEncoding(nn.Module):\n",
    "    \"\"\"\n",
    "    This module implements positional encoding for transformer models.\n",
    "    Written with help of:\n",
    "    https://www.geeksforgeeks.org/positional-encoding-in-transformers/\n",
    "    https://github.com/hyunwoongko/transformer\n",
    "\n",
    "    Positional encoding adds information about the position of tokens in a sequence to the input embeddings.\n",
    "    This is crucial because transformer models, unlike recurrent neural networks, do not inherently\n",
    "    process sequential data in order.\n",
    "    \"\"\"\n",
    "    def __init__(self, d_model, max_len=5000):\n",
    "        \"\"\"\n",
    "        Initializes the PositionalEncoding module.\n",
    "\n",
    "        Args:\n",
    "            d_model (int): The dimensionality of the input embeddings.\n",
    "            max_len (int): The maximum length of the sequences the model can handle.\n",
    "        \"\"\"\n",
    "        # Create a zero tensor of shape (max_len, d_model) to store the positional encodings.\n",
    "        super(PositionalEncoding, self).__init__()\n",
    "        # Create a zero tensor of shape (max_len, d_model) to store the positional encodings.\n",
    "        pe = torch.zeros(max_len, d_model)\n",
    "        # Create a tensor of positions from 0 to max_len-1.\n",
    "        position = torch.arange(0, max_len, dtype=torch.float).unsqueeze(1)\n",
    "        # Calculate the division term for the sinusoidal functions.\n",
    "        div_term = torch.exp(torch.arange(0, d_model, 2).float() * (-math.log(10000.0) / d_model))\n",
    "        # Calculate the sine and cosine values for even indices and odd indices.\n",
    "        pe[:, 0::2] = torch.sin(position * div_term)\n",
    "        pe[:, 1::2] = torch.cos(position * div_term)\n",
    "        # Add a batch dimension to the positional encoding tensor. WHY????? TODO figure out\n",
    "        pe = pe.unsqueeze(0)\n",
    "        # Buffers are tensors that  are not updated during trainin but are still\n",
    "        # saved in the model's state dictionary.\n",
    "        self.register_buffer('pe', pe)\n",
    "\n",
    "    def forward(self, x):\n",
    "        \"\"\"\n",
    "        Applies positional encoding to the input tensor.\n",
    "\n",
    "        Args:\n",
    "            x (torch.Tensor): The input tensor of shape (batch_size, sequence_length, d_model).\n",
    "\n",
    "        Returns:\n",
    "            torch.Tensor: The input tensor with positional encoding added, of the same shape as x.\n",
    "        \"\"\"\n",
    "        # The positional encoding is sliced to match the sequence length of the input.\n",
    "        return x + self.pe[:, :x.size(1), :]\n"
   ]
  },
  {
   "cell_type": "code",
   "execution_count": 20,
   "id": "a08b8891",
   "metadata": {
    "execution": {
     "iopub.execute_input": "2025-03-15T17:51:52.729684Z",
     "iopub.status.busy": "2025-03-15T17:51:52.729328Z",
     "iopub.status.idle": "2025-03-15T17:51:52.737505Z",
     "shell.execute_reply": "2025-03-15T17:51:52.736658Z"
    },
    "id": "1hNA9u659U-E",
    "papermill": {
     "duration": 0.017073,
     "end_time": "2025-03-15T17:51:52.739051",
     "exception": false,
     "start_time": "2025-03-15T17:51:52.721978",
     "status": "completed"
    },
    "tags": []
   },
   "outputs": [],
   "source": [
    "# Improved Encoder and Decoder with LSTM and Attention\n",
    "class EnhancedEncoder(nn.Module):\n",
    "    \"\"\"\n",
    "    An enhanced encoder module that combines embedding, positional encoding, multi-head attention,\n",
    "    and feed-forward network for sequence encoding.\n",
    "    \"\"\"\n",
    "    def __init__(self, input_size, hidden_size, num_heads=4, dropout=0.1):\n",
    "        \"\"\"\n",
    "        Initializes the EnhancedEncoder module.\n",
    "\n",
    "        Args:\n",
    "            input_size (int): The size of the input vocabulary.\n",
    "            hidden_size (int): The dimensionality of the hidden state and embeddings.\n",
    "            num_heads (int): The number of attention heads.\n",
    "            dropout (float): Dropout probability.\n",
    "        \"\"\"\n",
    "        super(EnhancedEncoder, self).__init__()\n",
    "        self.hidden_size = hidden_size\n",
    "        self.num_heads = num_heads\n",
    "\n",
    "        # Embedding layer to convert input tokens to embeddings.\n",
    "        self.embedding = nn.Embedding(input_size, hidden_size, padding_idx=0)\n",
    "        # Positional encoding to add positional information to embeddings.\n",
    "        self.pos_encoding = PositionalEncoding(hidden_size)\n",
    "        # Multi-head attention layer.\n",
    "        self.attention = nn.MultiheadAttention(hidden_size, num_heads, dropout=dropout)\n",
    "        # Layer normalization after attention.\n",
    "        self.norm1 = nn.LayerNorm(hidden_size)\n",
    "        # Layer normalization after feed-forward network.\n",
    "        self.norm2 = nn.LayerNorm(hidden_size)\n",
    "        # Feed-forward network.\n",
    "        self.ffn = nn.Sequential(\n",
    "            nn.Linear(hidden_size, hidden_size * 4),\n",
    "            nn.ReLU(),\n",
    "            nn.Dropout(dropout),\n",
    "            nn.Linear(hidden_size * 4, hidden_size)\n",
    "        )\n",
    "        self.dropout = nn.Dropout(dropout)\n",
    "\n",
    "    def forward(self, input, hidden=None):\n",
    "        \"\"\"\n",
    "        Forward pass of the encoder.\n",
    "\n",
    "        Args:\n",
    "            input (torch.Tensor): Input tensor of shape (batch_size, seq_length).\n",
    "            hidden (torch.Tensor, optional): Hidden state (not used in this encoder).\n",
    "\n",
    "        Returns:\n",
    "            tuple: A tuple containing the encoder output and None (for compatibility).\n",
    "        \"\"\"\n",
    "        # Embed the input tokens. \n",
    "        embedded = self.embedding(input)  # [batch_size, seq_length, hidden_size]\n",
    "        # Add positional encoding. need to figure out why this is a must\n",
    "        embedded = self.pos_encoding(embedded)\n",
    "        # Permute dimensions for multi-head attention. \n",
    "        # https://towardsdatascience.com/transformers-explained-visually-part-3-multi-head-attention-deep-dive-1c1ff1024853\n",
    "        embedded = embedded.permute(1, 0, 2)  # [seq_length, batch_size, hidden_size]\n",
    "\n",
    "        # Apply multi-head attention.\n",
    "        # https://paperswithcode.com/method/multi-head-attention\n",
    "        attn_output, _ = self.attention(embedded, embedded, embedded)\n",
    "        attn_output = self.norm1(embedded + self.dropout(attn_output))\n",
    "        ffn_output = self.ffn(attn_output)\n",
    "        output = self.norm2(attn_output + self.dropout(ffn_output))\n",
    "        output = output.permute(1, 0, 2)  # [batch_size, seq_length, hidden_size]\n",
    "        return output, None\n",
    "\n",
    "    def initHidden(self):\n",
    "        \"\"\"\n",
    "        Initializes the hidden state (not used in this encoder).\n",
    "\n",
    "        Returns:\n",
    "            None\n",
    "        \"\"\"\n",
    "        return None"
   ]
  },
  {
   "cell_type": "code",
   "execution_count": 21,
   "id": "376e8216",
   "metadata": {
    "execution": {
     "iopub.execute_input": "2025-03-15T17:51:52.753056Z",
     "iopub.status.busy": "2025-03-15T17:51:52.752722Z",
     "iopub.status.idle": "2025-03-15T17:51:52.762148Z",
     "shell.execute_reply": "2025-03-15T17:51:52.761177Z"
    },
    "id": "d050fwM09Xad",
    "papermill": {
     "duration": 0.018147,
     "end_time": "2025-03-15T17:51:52.763650",
     "exception": false,
     "start_time": "2025-03-15T17:51:52.745503",
     "status": "completed"
    },
    "tags": []
   },
   "outputs": [],
   "source": [
    "class EnhancedDecoder(nn.Module):\n",
    "    \"\"\"\n",
    "    An enhanced decoder module that combines embedding, positional encoding, self-attention,\n",
    "    encoder-decoder attention, and a feed-forward network for sequence decoding.\n",
    "    \"\"\"\n",
    "    def __init__(self, hidden_size, output_size, num_heads=4, dropout=0.1):\n",
    "        \"\"\"\n",
    "        Initializes the EnhancedDecoder module.\n",
    "\n",
    "        Args:\n",
    "            hidden_size (int): The dimensionality of the hidden state and embeddings.\n",
    "            output_size (int): The size of the output vocabulary.\n",
    "            num_heads (int): The number of attention heads.\n",
    "            dropout (float): Dropout probability.\n",
    "        \"\"\"\n",
    "        super(EnhancedDecoder, self).__init__()\n",
    "        self.hidden_size = hidden_size\n",
    "        self.num_heads = num_heads\n",
    "\n",
    "        # Embedding layer to convert input tokens to embeddings.\n",
    "        self.embedding = nn.Embedding(output_size, hidden_size, padding_idx=0)\n",
    "        # Positional encoding to add positional information to embeddings.\n",
    "        self.pos_encoding = PositionalEncoding(hidden_size)\n",
    "        # Self-attention layer.\n",
    "        self.self_attention = nn.MultiheadAttention(hidden_size, num_heads, dropout=dropout)\n",
    "        # Encoder-decoder attention layer.\n",
    "        self.enc_dec_attention = nn.MultiheadAttention(hidden_size, num_heads, dropout=dropout)\n",
    "        # Layer normalization after self-attention.\n",
    "        self.norm1 = nn.LayerNorm(hidden_size)\n",
    "        # Layer normalization after encoder-decoder attention.\n",
    "        self.norm2 = nn.LayerNorm(hidden_size)\n",
    "        # Layer normalization after feed-forward network.\n",
    "        self.norm3 = nn.LayerNorm(hidden_size)\n",
    "        # Feed-forward network.\n",
    "        self.ffn = nn.Sequential(\n",
    "            nn.Linear(hidden_size, hidden_size * 4),\n",
    "            nn.ReLU(),\n",
    "            nn.Dropout(dropout),\n",
    "            nn.Linear(hidden_size * 4, hidden_size)\n",
    "        )\n",
    "        # Output linear layer.\n",
    "        self.out = nn.Linear(hidden_size, output_size)\n",
    "        # Log softmax for output probabilities.\n",
    "        self.softmax = nn.LogSoftmax(dim=-1)\n",
    "        # Dropout layer.\n",
    "        self.dropout = nn.Dropout(dropout)\n",
    "\n",
    "    def forward(self, input, encoder_output, mask=None):\n",
    "        \"\"\"\n",
    "        Forward pass of the decoder.\n",
    "\n",
    "        Args:\n",
    "            input (torch.Tensor): Input tensor of shape (batch_size, seq_len).\n",
    "            encoder_output (torch.Tensor): Output tensor from the encoder of shape (batch_size, src_seq_len, hidden_size).\n",
    "            mask (torch.Tensor, optional): Mask for self-attention (e.g., for padding or look-ahead).\n",
    "\n",
    "        Returns:\n",
    "            tuple: A tuple containing the decoder output and None (for compatibility).\n",
    "        \"\"\"\n",
    "        # Embed the input tokens.\n",
    "        embedded = self.embedding(input)  # [batch_size, seq_len, hidden_size]\n",
    "        # Add positional encoding.\n",
    "        embedded = self.pos_encoding(embedded)\n",
    "        # Permute dimensions for multi-head attention.\n",
    "        embedded = embedded.permute(1, 0, 2)  # [seq_len, batch_size, hidden_size]\n",
    "        # Permute encoder output dimensions for encoder-decoder attention.\n",
    "        enc_output = encoder_output.permute(1, 0, 2)  # [src_seq_len, batch_size, hidden_size]\n",
    "\n",
    "        # Apply self-attention.\n",
    "        self_attn_output, _ = self.self_attention(embedded, embedded, embedded, attn_mask=mask)\n",
    "        # Apply layer normalization and residual connection after self-attention.\n",
    "        self_attn_output = self.norm1(embedded + self.dropout(self_attn_output))\n",
    "\n",
    "        # Apply encoder-decoder attention.\n",
    "        attn_output, _ = self.enc_dec_attention(self_attn_output, enc_output, enc_output)\n",
    "        # Apply layer normalization and residual connection after encoder-decoder attention.\n",
    "        attn_output = self.norm2(self_attn_output + self.dropout(attn_output))\n",
    "\n",
    "        # Apply feed-forward network.\n",
    "        ffn_output = self.ffn(attn_output)\n",
    "        # Apply layer normalization and residual connection after feed-forward network.\n",
    "        output = self.norm3(attn_output + self.dropout(ffn_output))\n",
    "        # Permute dimensions back to (batch_size, seq_len, hidden_size).\n",
    "        output = output.permute(1, 0, 2)  # [batch_size, seq_len, hidden_size]\n",
    "\n",
    "        # Output logits for the last token only\n",
    "        output = self.out(output[:, -1, :])  # [batch_size, output_size]\n",
    "        output = self.softmax(output)\n",
    "        return output, None\n",
    "\n",
    "    # We do not need an .initHidden() method for the decoder since the encoder output will act as input in the first decoder time-step"
   ]
  },
  {
   "cell_type": "code",
   "execution_count": 22,
   "id": "f818ca1f",
   "metadata": {
    "execution": {
     "iopub.execute_input": "2025-03-15T17:51:52.777293Z",
     "iopub.status.busy": "2025-03-15T17:51:52.776938Z",
     "iopub.status.idle": "2025-03-15T17:51:52.781183Z",
     "shell.execute_reply": "2025-03-15T17:51:52.780203Z"
    },
    "id": "9KKwV9qS9Eyw",
    "papermill": {
     "duration": 0.012613,
     "end_time": "2025-03-15T17:51:52.782721",
     "exception": false,
     "start_time": "2025-03-15T17:51:52.770108",
     "status": "completed"
    },
    "tags": []
   },
   "outputs": [],
   "source": [
    "# Modified instantiation\n",
    "hidden_size = 128  # Increased hidden size for better representation\n",
    "SOS = en_word2index[\"<SOS>\"]\n",
    "EOS = en_word2index[\"<EOS>\"]"
   ]
  },
  {
   "cell_type": "code",
   "execution_count": 23,
   "id": "e74398e1",
   "metadata": {
    "execution": {
     "iopub.execute_input": "2025-03-15T17:51:52.796895Z",
     "iopub.status.busy": "2025-03-15T17:51:52.796543Z",
     "iopub.status.idle": "2025-03-15T17:51:52.801230Z",
     "shell.execute_reply": "2025-03-15T17:51:52.800287Z"
    },
    "id": "5IH25tA04lYz",
    "papermill": {
     "duration": 0.013619,
     "end_time": "2025-03-15T17:51:52.802940",
     "exception": false,
     "start_time": "2025-03-15T17:51:52.789321",
     "status": "completed"
    },
    "tags": []
   },
   "outputs": [],
   "source": [
    "def generate_square_subsequent_mask(sz):\n",
    "    \"\"\"Generate a square mask for the sequence. The masked positions are filled with float('-inf')\"\"\"\n",
    "    # Create an upper triangular matrix of ones.\n",
    "    mask = (torch.triu(torch.ones(sz, sz)) == 1).transpose(0, 1)\n",
    "    # Replace 0s with float('-inf') and 1s with 0.0.\n",
    "    # masked_fill(condition, value) replaces elements where the condition is true with the specified value.\n",
    "    mask = mask.float().masked_fill(mask == 0, float('-inf')).masked_fill(mask == 1, float(0.0))\n",
    "    return mask"
   ]
  },
  {
   "cell_type": "code",
   "execution_count": 24,
   "id": "ebbbb3de",
   "metadata": {
    "execution": {
     "iopub.execute_input": "2025-03-15T17:51:52.817379Z",
     "iopub.status.busy": "2025-03-15T17:51:52.817023Z",
     "iopub.status.idle": "2025-03-15T17:51:52.824552Z",
     "shell.execute_reply": "2025-03-15T17:51:52.823524Z"
    },
    "id": "pZBPRQqM5Pfz",
    "papermill": {
     "duration": 0.016676,
     "end_time": "2025-03-15T17:51:52.826215",
     "exception": false,
     "start_time": "2025-03-15T17:51:52.809539",
     "status": "completed"
    },
    "tags": []
   },
   "outputs": [],
   "source": [
    "# Modified evaluation code\n",
    "# Evaluation\n",
    "# Corrected Evaluation\n",
    "def evaluate(encoder, decoder, test_ds):\n",
    "    \"\"\"\n",
    "    Evaluates the encoder and decoder models on the test dataset.\n",
    "\n",
    "    Args:\n",
    "        encoder (nn.Module): The encoder model.\n",
    "        decoder (nn.Module): The decoder model.\n",
    "        test_ds (Dataset): The test dataset.\n",
    "\n",
    "    Returns:\n",
    "        list: A list of predicted sentences as strings.\n",
    "    \"\"\"\n",
    "    # Set the models to evaluation mode.\n",
    "    encoder.eval()\n",
    "    decoder.eval()\n",
    "    val_outs = []\n",
    "\n",
    "    # Disable gradient calculation during evaluation.\n",
    "    with torch.no_grad():\n",
    "        # Iterate over the test dataset.\n",
    "        for i in tqdm(range(len(test_ds))):\n",
    "            # Get the input tensor and move it to the device.\n",
    "            input_tensor = test_ds[i][0].unsqueeze(0).to(device)\n",
    "            encoder_output, _ = encoder(input_tensor)\n",
    "            # Initialize the decoder input with the SOS token.\n",
    "            decoder_input = torch.tensor([[SOS]], device=device)  # [1, 1]\n",
    "            result = []\n",
    "\n",
    "            # Iterate over the sequence length.\n",
    "            for t in range(seq_length):\n",
    "                # Generate the mask for the decoder.\n",
    "                mask = generate_square_subsequent_mask(t + 1).to(device)\n",
    "                # Decode the input sequence up to time step t.\n",
    "                decoder_output, _ = decoder(decoder_input, encoder_output, mask)\n",
    "                # Get the predicted token index.\n",
    "                best = decoder_output.argmax(-1)  # [batch_size], here [1]\n",
    "                pred_token = best.item()\n",
    "                \n",
    "                result.append(de_index2word[pred_token])\n",
    "\n",
    "                # Check if the predicted token is the EOS token.\n",
    "                if pred_token == EOS:\n",
    "                    break\n",
    "                    \n",
    "                \n",
    "                # Prepare the next decoder input.\n",
    "                # Ensure 2D tensor by concatenating with a tensor containing the pred_token.\n",
    "                # Fix: by unsqueezing only once\n",
    "                decoder_input = torch.cat(\n",
    "                    [decoder_input, torch.tensor([[pred_token]], device=device)],\n",
    "                    dim=1\n",
    "                )\n",
    "\n",
    "            # Remove special tokens from the result list.\n",
    "            result = [token for token in result if token not in ['<EOS>', '<PAD>', '<SOS>']]\n",
    "            # Construct sentence\n",
    "            val_outs.append(\" \".join(result))\n",
    "    \n",
    "    return val_outs"
   ]
  },
  {
   "cell_type": "code",
   "execution_count": 25,
   "id": "f17196c0",
   "metadata": {
    "execution": {
     "iopub.execute_input": "2025-03-15T17:51:52.840416Z",
     "iopub.status.busy": "2025-03-15T17:51:52.840056Z",
     "iopub.status.idle": "2025-03-15T17:51:55.188301Z",
     "shell.execute_reply": "2025-03-15T17:51:55.187242Z"
    },
    "papermill": {
     "duration": 2.357176,
     "end_time": "2025-03-15T17:51:55.189962",
     "exception": false,
     "start_time": "2025-03-15T17:51:52.832786",
     "status": "completed"
    },
    "tags": []
   },
   "outputs": [
    {
     "name": "stdout",
     "output_type": "stream",
     "text": [
      "English-Bengali Encoder and Decoder loaded\n"
     ]
    }
   ],
   "source": [
    "\n",
    "encoder = EnhancedEncoder(len(en_index2word), hidden_size).to(device)\n",
    "decoder = EnhancedDecoder(hidden_size, len(de_index2word)).to(device)\n",
    "\n",
    "# Load saved state dictionaries with weights_only=True\n",
    "encoder.load_state_dict(torch.load('/kaggle/input/ee958-cap-test/encoder_bn.pth', weights_only=True))\n",
    "decoder.load_state_dict(torch.load('/kaggle/input/ee958-cap-test/decoder_bn.pth', weights_only=True))\n",
    "print(\"English-Bengali Encoder and Decoder loaded\")"
   ]
  },
  {
   "cell_type": "code",
   "execution_count": 26,
   "id": "32335476",
   "metadata": {
    "execution": {
     "iopub.execute_input": "2025-03-15T17:51:55.204495Z",
     "iopub.status.busy": "2025-03-15T17:51:55.204163Z",
     "iopub.status.idle": "2025-03-15T18:01:11.030893Z",
     "shell.execute_reply": "2025-03-15T18:01:11.029690Z"
    },
    "id": "keeFGS8L5RgB",
    "papermill": {
     "duration": 555.836312,
     "end_time": "2025-03-15T18:01:11.033013",
     "exception": false,
     "start_time": "2025-03-15T17:51:55.196701",
     "status": "completed"
    },
    "tags": []
   },
   "outputs": [
    {
     "name": "stderr",
     "output_type": "stream",
     "text": [
      "100%|██████████| 19672/19672 [09:15<00:00, 35.39it/s]\n"
     ]
    }
   ],
   "source": [
    "# Run evaluation\n",
    "val_ids = [i for i, _ in data[\"English-Bengali\"][\"Test\"].items()]\n",
    "val_outs = evaluate(encoder, decoder, test_ds)"
   ]
  },
  {
   "cell_type": "code",
   "execution_count": 27,
   "id": "10f4c12b",
   "metadata": {
    "execution": {
     "iopub.execute_input": "2025-03-15T18:01:11.558434Z",
     "iopub.status.busy": "2025-03-15T18:01:11.558074Z",
     "iopub.status.idle": "2025-03-15T18:01:11.697728Z",
     "shell.execute_reply": "2025-03-15T18:01:11.696629Z"
    },
    "id": "83naaUJdGthF",
    "papermill": {
     "duration": 0.386603,
     "end_time": "2025-03-15T18:01:11.699551",
     "exception": false,
     "start_time": "2025-03-15T18:01:11.312948",
     "status": "completed"
    },
    "tags": []
   },
   "outputs": [],
   "source": [
    "# Save results\n",
    "df0 = pd.DataFrame()\n",
    "df0[\"ID\"] = val_ids\n",
    "df0[\"Translation\"] = val_outs\n",
    "df0.to_csv('/kaggle/working/answersB.csv', index=False)"
   ]
  },
  {
   "cell_type": "code",
   "execution_count": 28,
   "id": "86a03e32",
   "metadata": {
    "execution": {
     "iopub.execute_input": "2025-03-15T18:01:12.236775Z",
     "iopub.status.busy": "2025-03-15T18:01:12.236427Z",
     "iopub.status.idle": "2025-03-15T18:01:12.328447Z",
     "shell.execute_reply": "2025-03-15T18:01:12.327642Z"
    },
    "id": "0YPeBfJDGtmL",
    "papermill": {
     "duration": 0.3941,
     "end_time": "2025-03-15T18:01:12.330355",
     "exception": false,
     "start_time": "2025-03-15T18:01:11.936255",
     "status": "completed"
    },
    "tags": []
   },
   "outputs": [],
   "source": [
    "x=pd.read_csv(\"/kaggle/working/answersB.csv\")"
   ]
  },
  {
   "cell_type": "code",
   "execution_count": 29,
   "id": "99391654",
   "metadata": {
    "execution": {
     "iopub.execute_input": "2025-03-15T18:01:12.804324Z",
     "iopub.status.busy": "2025-03-15T18:01:12.803988Z",
     "iopub.status.idle": "2025-03-15T18:01:12.850584Z",
     "shell.execute_reply": "2025-03-15T18:01:12.849429Z"
    },
    "id": "A2S8UnGoLKDt",
    "papermill": {
     "duration": 0.284473,
     "end_time": "2025-03-15T18:01:12.852537",
     "exception": false,
     "start_time": "2025-03-15T18:01:12.568064",
     "status": "completed"
    },
    "tags": []
   },
   "outputs": [
    {
     "data": {
      "text/html": [
       "<div>\n",
       "<style scoped>\n",
       "    .dataframe tbody tr th:only-of-type {\n",
       "        vertical-align: middle;\n",
       "    }\n",
       "\n",
       "    .dataframe tbody tr th {\n",
       "        vertical-align: top;\n",
       "    }\n",
       "\n",
       "    .dataframe thead th {\n",
       "        text-align: right;\n",
       "    }\n",
       "</style>\n",
       "<table border=\"1\" class=\"dataframe\">\n",
       "  <thead>\n",
       "    <tr style=\"text-align: right;\">\n",
       "      <th></th>\n",
       "      <th>ID</th>\n",
       "      <th>Translation</th>\n",
       "    </tr>\n",
       "  </thead>\n",
       "  <tbody>\n",
       "    <tr>\n",
       "      <th>0</th>\n",
       "      <td>177039</td>\n",
       "      <td>বর্তমান ঘটনা</td>\n",
       "    </tr>\n",
       "    <tr>\n",
       "      <th>1</th>\n",
       "      <td>177040</td>\n",
       "      <td>ভগবানকে ধন্যবাদ কিন্তু শিবাজীকে তাঁর বাগদত্তা ...</td>\n",
       "    </tr>\n",
       "    <tr>\n",
       "      <th>2</th>\n",
       "      <td>177041</td>\n",
       "      <td>মাথা ব্যাথা অথবা ছাতি বা নাকে চুলকানি মাঝে এক ...</td>\n",
       "    </tr>\n",
       "    <tr>\n",
       "      <th>3</th>\n",
       "      <td>177042</td>\n",
       "      <td>তাকে বলে যে তাকে ভালবাসে যে সে তার মধুর বলে মন...</td>\n",
       "    </tr>\n",
       "    <tr>\n",
       "      <th>4</th>\n",
       "      <td>177043</td>\n",
       "      <td>অস্ট্রেলিয়া ব্রাজিল এর উল্লেখযোগ্য শতাংশ দুরে...</td>\n",
       "    </tr>\n",
       "    <tr>\n",
       "      <th>...</th>\n",
       "      <td>...</td>\n",
       "      <td>...</td>\n",
       "    </tr>\n",
       "    <tr>\n",
       "      <th>19667</th>\n",
       "      <td>196706</td>\n",
       "      <td>এই ঘন্টার তাপমাত্রা কত</td>\n",
       "    </tr>\n",
       "    <tr>\n",
       "      <th>19668</th>\n",
       "      <td>196707</td>\n",
       "      <td>আমাকে আজকাল ভারতীয় জনসংখ্যা রাজস্থান ইংল্যান্...</td>\n",
       "    </tr>\n",
       "    <tr>\n",
       "      <th>19669</th>\n",
       "      <td>196708</td>\n",
       "      <td>ঝিল্লি চামচ এই তরল পদার্থের ভালো করে এবং আপনার...</td>\n",
       "    </tr>\n",
       "    <tr>\n",
       "      <th>19670</th>\n",
       "      <td>196709</td>\n",
       "      <td>এই যে এই সময়ে এই সময়ে ঘাবড়ে যায় তা দেখে সে আসে।</td>\n",
       "    </tr>\n",
       "    <tr>\n",
       "      <th>19671</th>\n",
       "      <td>196710</td>\n",
       "      <td>মুখের ওপরে কিছু ক্রিম বা ভ্যাসলিন লাগিয়ে নিন ৷</td>\n",
       "    </tr>\n",
       "  </tbody>\n",
       "</table>\n",
       "<p>19672 rows × 2 columns</p>\n",
       "</div>"
      ],
      "text/plain": [
       "           ID                                        Translation\n",
       "0      177039                                       বর্তমান ঘটনা\n",
       "1      177040  ভগবানকে ধন্যবাদ কিন্তু শিবাজীকে তাঁর বাগদত্তা ...\n",
       "2      177041  মাথা ব্যাথা অথবা ছাতি বা নাকে চুলকানি মাঝে এক ...\n",
       "3      177042  তাকে বলে যে তাকে ভালবাসে যে সে তার মধুর বলে মন...\n",
       "4      177043  অস্ট্রেলিয়া ব্রাজিল এর উল্লেখযোগ্য শতাংশ দুরে...\n",
       "...       ...                                                ...\n",
       "19667  196706                             এই ঘন্টার তাপমাত্রা কত\n",
       "19668  196707  আমাকে আজকাল ভারতীয় জনসংখ্যা রাজস্থান ইংল্যান্...\n",
       "19669  196708  ঝিল্লি চামচ এই তরল পদার্থের ভালো করে এবং আপনার...\n",
       "19670  196709   এই যে এই সময়ে এই সময়ে ঘাবড়ে যায় তা দেখে সে আসে।\n",
       "19671  196710     মুখের ওপরে কিছু ক্রিম বা ভ্যাসলিন লাগিয়ে নিন ৷\n",
       "\n",
       "[19672 rows x 2 columns]"
      ]
     },
     "execution_count": 29,
     "metadata": {},
     "output_type": "execute_result"
    }
   ],
   "source": [
    "x"
   ]
  }
 ],
 "metadata": {
  "accelerator": "GPU",
  "colab": {
   "gpuType": "T4",
   "provenance": []
  },
  "kaggle": {
   "accelerator": "nvidiaTeslaT4",
   "dataSources": [
    {
     "datasetId": 6874910,
     "sourceId": 11042294,
     "sourceType": "datasetVersion"
    }
   ],
   "dockerImageVersionId": 30919,
   "isGpuEnabled": true,
   "isInternetEnabled": true,
   "language": "python",
   "sourceType": "notebook"
  },
  "kernelspec": {
   "display_name": "Python 3",
   "language": "python",
   "name": "python3"
  },
  "language_info": {
   "codemirror_mode": {
    "name": "ipython",
    "version": 3
   },
   "file_extension": ".py",
   "mimetype": "text/x-python",
   "name": "python",
   "nbconvert_exporter": "python",
   "pygments_lexer": "ipython3",
   "version": "3.10.12"
  },
  "papermill": {
   "default_parameters": {},
   "duration": 583.884005,
   "end_time": "2025-03-15T18:01:16.366653",
   "environment_variables": {},
   "exception": null,
   "input_path": "__notebook__.ipynb",
   "output_path": "__notebook__.ipynb",
   "parameters": {},
   "start_time": "2025-03-15T17:51:32.482648",
   "version": "2.6.0"
  }
 },
 "nbformat": 4,
 "nbformat_minor": 5
}
